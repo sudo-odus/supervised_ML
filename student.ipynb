{
 "cells": [
  {
   "cell_type": "markdown",
   "id": "smooth-fortune",
   "metadata": {},
   "source": [
    "# SHUBHAM SHUKLA\n",
    "# ORGANISATION - THE SPARKS FOUNDATION\n",
    "# DATA SCIENCE AND BUSINESS ANALYTICS \n",
    "# TASK :1\n",
    "# SIMPLE LINEAR REGRESSION"
   ]
  },
  {
   "cell_type": "code",
   "execution_count": 161,
   "id": "atmospheric-plumbing",
   "metadata": {},
   "outputs": [],
   "source": [
    "#importing required libraries "
   ]
  },
  {
   "cell_type": "code",
   "execution_count": 25,
   "id": "interested-sleeping",
   "metadata": {},
   "outputs": [],
   "source": [
    "import numpy as np\n",
    "import os\n",
    "from sklearn.linear_model import LinearRegression\n",
    "from sklearn.model_selection import train_test_split"
   ]
  },
  {
   "cell_type": "code",
   "execution_count": 162,
   "id": "hindu-birth",
   "metadata": {},
   "outputs": [],
   "source": [
    "#loading the csv file as a numpy array"
   ]
  },
  {
   "cell_type": "code",
   "execution_count": 163,
   "id": "swiss-therapist",
   "metadata": {},
   "outputs": [],
   "source": [
    "filename='student_data.csv'\n",
    "raw_data=open(filename,'rt')\n",
    "data=np.loadtxt(os.path.join('student_data.csv'),delimiter=\",\")"
   ]
  },
  {
   "cell_type": "code",
   "execution_count": 164,
   "id": "three-placement",
   "metadata": {},
   "outputs": [],
   "source": [
    "#DATA VISUALISATION"
   ]
  },
  {
   "cell_type": "code",
   "execution_count": 28,
   "id": "russian-europe",
   "metadata": {},
   "outputs": [],
   "source": [
    "#data\n",
    "m=data.shape[0]   #number of training examples\n",
    "n=data.shape[1]-1  #number of features/independent variables"
   ]
  },
  {
   "cell_type": "code",
   "execution_count": null,
   "id": "signed-memorabilia",
   "metadata": {},
   "outputs": [],
   "source": [
    "#storing number of hours studied in variable x"
   ]
  },
  {
   "cell_type": "code",
   "execution_count": 67,
   "id": "loved-costa",
   "metadata": {},
   "outputs": [],
   "source": [
    "x=data[:,0]"
   ]
  },
  {
   "cell_type": "code",
   "execution_count": 165,
   "id": "victorian-drawing",
   "metadata": {},
   "outputs": [
    {
     "name": "stdout",
     "output_type": "stream",
     "text": [
      "[[2.5]\n",
      " [5.1]\n",
      " [3.2]\n",
      " [8.5]\n",
      " [3.5]\n",
      " [1.5]\n",
      " [9.2]\n",
      " [5.5]\n",
      " [8.3]\n",
      " [2.7]\n",
      " [7.7]\n",
      " [5.9]\n",
      " [4.5]\n",
      " [3.3]\n",
      " [1.1]\n",
      " [8.9]\n",
      " [2.5]\n",
      " [1.9]\n",
      " [6.1]\n",
      " [7.4]\n",
      " [2.7]\n",
      " [4.8]\n",
      " [3.8]\n",
      " [6.9]\n",
      " [7.8]]\n"
     ]
    }
   ],
   "source": [
    "print(x)"
   ]
  },
  {
   "cell_type": "code",
   "execution_count": 166,
   "id": "educational-islam",
   "metadata": {},
   "outputs": [],
   "source": [
    "#storing the percentage values in variable y"
   ]
  },
  {
   "cell_type": "code",
   "execution_count": 69,
   "id": "linear-frontier",
   "metadata": {},
   "outputs": [],
   "source": [
    "y=data[:,1]"
   ]
  },
  {
   "cell_type": "markdown",
   "id": "directed-wheat",
   "metadata": {},
   "source": [
    "#DATA VISUALISATION USING MATPLOTLIB"
   ]
  },
  {
   "cell_type": "code",
   "execution_count": 70,
   "id": "cardiovascular-credits",
   "metadata": {},
   "outputs": [],
   "source": [
    "import matplotlib.pyplot as plt"
   ]
  },
  {
   "cell_type": "code",
   "execution_count": 71,
   "id": "smooth-rabbit",
   "metadata": {},
   "outputs": [
    {
     "data": {
      "text/plain": [
       "<Figure size 432x288 with 0 Axes>"
      ]
     },
     "execution_count": 71,
     "metadata": {},
     "output_type": "execute_result"
    },
    {
     "data": {
      "image/png": "[encoded data removed]",
      "text/plain": [
       "<Figure size 432x288 with 1 Axes>"
      ]
     },
     "metadata": {
      "needs_background": "light"
     },
     "output_type": "display_data"
    },
    {
     "data": {
      "text/plain": [
       "<Figure size 432x288 with 0 Axes>"
      ]
     },
     "metadata": {},
     "output_type": "display_data"
    }
   ],
   "source": [
    "plt.scatter(x,y)\n",
    "plt.xlabel(\"hours\")\n",
    "plt.ylabel(\"percentage\")\n",
    "plt.title(\"hours vs percentage\")\n",
    "plt.figure()"
   ]
  },
  {
   "cell_type": "markdown",
   "id": "micro-truth",
   "metadata": {},
   "source": [
    "From the above graph we can see that the number of hours studied has an direct linear impact on the percentage \n",
    "of the student ...so a linear regression model would be a good choice to fit the data."
   ]
  },
  {
   "cell_type": "markdown",
   "id": "divided-conference",
   "metadata": {},
   "source": [
    "# training linear regression model "
   ]
  },
  {
   "cell_type": "code",
   "execution_count": 72,
   "id": "opposite-crazy",
   "metadata": {},
   "outputs": [],
   "source": [
    "model=LinearRegression()"
   ]
  },
  {
   "cell_type": "code",
   "execution_count": 167,
   "id": "egyptian-alexandria",
   "metadata": {},
   "outputs": [],
   "source": [
    "#splitting the data into train and test "
   ]
  },
  {
   "cell_type": "code",
   "execution_count": 168,
   "id": "threatened-poster",
   "metadata": {},
   "outputs": [],
   "source": [
    "x_train,x_test,y_train,y_test = train_test_split(x,y,train_size=0.80,test_size=0.20,random_state=0)"
   ]
  },
  {
   "cell_type": "code",
   "execution_count": 169,
   "id": "orange-weekend",
   "metadata": {},
   "outputs": [
    {
     "data": {
      "text/plain": [
       "array([[3.8],\n",
       "       [1.9],\n",
       "       [7.8],\n",
       "       [6.9],\n",
       "       [1.1],\n",
       "       [5.1],\n",
       "       [7.7],\n",
       "       [3.3],\n",
       "       [8.3],\n",
       "       [9.2],\n",
       "       [6.1],\n",
       "       [3.5],\n",
       "       [2.7],\n",
       "       [5.5],\n",
       "       [2.7],\n",
       "       [8.5],\n",
       "       [2.5],\n",
       "       [4.8],\n",
       "       [8.9],\n",
       "       [4.5]])"
      ]
     },
     "execution_count": 169,
     "metadata": {},
     "output_type": "execute_result"
    }
   ],
   "source": [
    "x_train"
   ]
  },
  {
   "cell_type": "code",
   "execution_count": 171,
   "id": "criminal-drive",
   "metadata": {},
   "outputs": [],
   "source": [
    "x_train=x_train.reshape(20,1)"
   ]
  },
  {
   "cell_type": "code",
   "execution_count": 175,
   "id": "female-welsh",
   "metadata": {},
   "outputs": [
    {
     "name": "stdout",
     "output_type": "stream",
     "text": [
      "model trained\n"
     ]
    }
   ],
   "source": [
    "model.fit(x_train,y_train)\n",
    "print(\"model trained\")"
   ]
  },
  {
   "cell_type": "code",
   "execution_count": 117,
   "id": "industrial-rolling",
   "metadata": {},
   "outputs": [],
   "source": [
    "x_test=x_test.reshape(5,1)"
   ]
  },
  {
   "cell_type": "code",
   "execution_count": 176,
   "id": "controversial-harvard",
   "metadata": {},
   "outputs": [],
   "source": [
    "x=x.reshape(25,1)"
   ]
  },
  {
   "cell_type": "markdown",
   "id": "intensive-interaction",
   "metadata": {},
   "source": [
    "# MODEL SCORE"
   ]
  },
  {
   "cell_type": "code",
   "execution_count": null,
   "id": "serious-pathology",
   "metadata": {},
   "outputs": [],
   "source": [
    "#model score on test data"
   ]
  },
  {
   "cell_type": "code",
   "execution_count": 184,
   "id": "efficient-illustration",
   "metadata": {},
   "outputs": [
    {
     "data": {
      "text/plain": [
       "0.9515510725211552"
      ]
     },
     "execution_count": 184,
     "metadata": {},
     "output_type": "execute_result"
    }
   ],
   "source": [
    "model.score(x_train,y_train)\n"
   ]
  },
  {
   "cell_type": "code",
   "execution_count": 186,
   "id": "humanitarian-record",
   "metadata": {},
   "outputs": [],
   "source": [
    "#model score on whole dataset"
   ]
  },
  {
   "cell_type": "code",
   "execution_count": 187,
   "id": "second-reset",
   "metadata": {},
   "outputs": [
    {
     "data": {
      "text/plain": [
       "0.9526947647057273"
      ]
     },
     "execution_count": 187,
     "metadata": {},
     "output_type": "execute_result"
    }
   ],
   "source": [
    "model.score(x,y)"
   ]
  },
  {
   "cell_type": "code",
   "execution_count": 198,
   "id": "impaired-category",
   "metadata": {},
   "outputs": [],
   "source": [
    "#plotting the model with actual points"
   ]
  },
  {
   "cell_type": "code",
   "execution_count": 193,
   "id": "compatible-throat",
   "metadata": {},
   "outputs": [
    {
     "data": {
      "text/plain": [
       "<Figure size 432x288 with 0 Axes>"
      ]
     },
     "execution_count": 193,
     "metadata": {},
     "output_type": "execute_result"
    },
    {
     "data": {
      "image/png": "[encoded data removed]",
      "text/plain": [
       "<Figure size 432x288 with 1 Axes>"
      ]
     },
     "metadata": {
      "needs_background": "light"
     },
     "output_type": "display_data"
    },
    {
     "data": {
      "text/plain": [
       "<Figure size 432x288 with 0 Axes>"
      ]
     },
     "metadata": {},
     "output_type": "display_data"
    }
   ],
   "source": [
    "line=model.coef_*x+model.intercept_\n",
    "plt.scatter(x,y,color=\"red\")\n",
    "#plt.scatter(x,y_predicted)\n",
    "plt.plot(x,line)\n",
    "plt.xlabel(\"hours\")\n",
    "plt.ylabel(\"percentage\")\n",
    "plt.title(\"hours vs percentage\")\n",
    "\n",
    "plt.figure()"
   ]
  },
  {
   "cell_type": "code",
   "execution_count": null,
   "id": "crazy-beverage",
   "metadata": {},
   "outputs": [],
   "source": [
    "#predicting the percentages for all the data"
   ]
  },
  {
   "cell_type": "code",
   "execution_count": null,
   "id": "automated-valuable",
   "metadata": {},
   "outputs": [],
   "source": [
    "y_predicted=model.predict(x)\n",
    "y_testp=model.predict(x_test)"
   ]
  },
  {
   "cell_type": "code",
   "execution_count": 202,
   "id": "hazardous-consumption",
   "metadata": {},
   "outputs": [],
   "source": [
    "#predicting percentage of the student who studies 8 hours per day"
   ]
  },
  {
   "cell_type": "code",
   "execution_count": 203,
   "id": "numeric-florence",
   "metadata": {},
   "outputs": [
    {
     "data": {
      "text/plain": [
       "array([81.30341189])"
      ]
     },
     "execution_count": 203,
     "metadata": {},
     "output_type": "execute_result"
    }
   ],
   "source": [
    "model.predict([[8]])"
   ]
  },
  {
   "cell_type": "markdown",
   "id": "elementary-rubber",
   "metadata": {},
   "source": [
    "# EVALUATION OF THE MODEL"
   ]
  },
  {
   "cell_type": "code",
   "execution_count": 197,
   "id": "congressional-priority",
   "metadata": {},
   "outputs": [
    {
     "name": "stdout",
     "output_type": "stream",
     "text": [
      "Mean Absolute Error: 4.183859899002982\n",
      "Mean Squared Error: 21.598769307217456\n",
      "Root Mean Squared Error: 4.647447612100373\n"
     ]
    }
   ],
   "source": [
    "from sklearn import metrics\n",
    "print('Mean Absolute Error:', metrics.mean_absolute_error(y_test, y_testp))\n",
    "print('Mean Squared Error:', metrics.mean_squared_error(y_test, y_testp))\n",
    "print('Root Mean Squared Error:', np.sqrt(metrics.mean_squared_error(y_test, y_testp)))"
   ]
  },
  {
   "cell_type": "code",
   "execution_count": null,
   "id": "roman-beads",
   "metadata": {},
   "outputs": [],
   "source": []
  }
 ],
 "metadata": {
  "kernelspec": {
   "display_name": "Python 3",
   "language": "python",
   "name": "python3"
  },
  "language_info": {
   "codemirror_mode": {
    "name": "ipython",
    "version": 3
   },
   "file_extension": ".py",
   "mimetype": "text/x-python",
   "name": "python",
   "nbconvert_exporter": "python",
   "pygments_lexer": "ipython3",
   "version": "3.8.5"
  }
 },
 "nbformat": 4,
 "nbformat_minor": 5
}
